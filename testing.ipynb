{
 "cells": [
  {
   "cell_type": "code",
   "execution_count": 3,
   "metadata": {},
   "outputs": [],
   "source": [
    "import torch\n",
    "from torch.nn import MSELoss"
   ]
  },
  {
   "cell_type": "code",
   "execution_count": 5,
   "metadata": {},
   "outputs": [],
   "source": [
    "t = torch.rand((1, 40, 18))"
   ]
  },
  {
   "cell_type": "code",
   "execution_count": 7,
   "metadata": {},
   "outputs": [
    {
     "data": {
      "text/plain": [
       "torch.Size([40, 18])"
      ]
     },
     "execution_count": 7,
     "metadata": {},
     "output_type": "execute_result"
    }
   ],
   "source": [
    "t = t.squeeze()\n",
    "t.shape"
   ]
  },
  {
   "cell_type": "code",
   "execution_count": 10,
   "metadata": {},
   "outputs": [],
   "source": [
    "a1 = t[:, [0,1]]\n",
    "a2 = t[:, [6,7]]\n",
    "b  = t[:, [12,13]]"
   ]
  },
  {
   "cell_type": "code",
   "execution_count": 11,
   "metadata": {},
   "outputs": [
    {
     "data": {
      "text/plain": [
       "(torch.Size([40, 2]), torch.Size([40, 2]), torch.Size([40, 2]))"
      ]
     },
     "execution_count": 11,
     "metadata": {},
     "output_type": "execute_result"
    }
   ],
   "source": [
    "a1.shape, a2.shape, b.shape"
   ]
  },
  {
   "cell_type": "code",
   "execution_count": 13,
   "metadata": {},
   "outputs": [],
   "source": [
    "from torch.nn import PairwiseDistance\n",
    "dist = PairwiseDistance(p=2)"
   ]
  },
  {
   "cell_type": "code",
   "execution_count": 18,
   "metadata": {},
   "outputs": [
    {
     "data": {
      "text/plain": [
       "torch.Size([40])"
      ]
     },
     "execution_count": 18,
     "metadata": {},
     "output_type": "execute_result"
    }
   ],
   "source": [
    "dis_a1_a2 = dist(a1, a2)\n",
    "dis_a1_b = dist(a1, b)\n",
    "dis_b_a2 = dist(b, a2)\n",
    "dis_a1_a2.shape"
   ]
  },
  {
   "cell_type": "code",
   "execution_count": 21,
   "metadata": {},
   "outputs": [
    {
     "data": {
      "text/plain": [
       "torch.Size([40, 3])"
      ]
     },
     "execution_count": 21,
     "metadata": {},
     "output_type": "execute_result"
    }
   ],
   "source": [
    "distances = torch.stack([dis_a1_a2, dis_a1_b, dis_b_a2], dim = 1)\n",
    "distances.shape"
   ]
  },
  {
   "cell_type": "code",
   "execution_count": 24,
   "metadata": {},
   "outputs": [
    {
     "data": {
      "text/plain": [
       "torch.Size([1, 40, 3])"
      ]
     },
     "execution_count": 24,
     "metadata": {},
     "output_type": "execute_result"
    }
   ],
   "source": [
    "dis = distances.unsqueeze(dim=0)\n",
    "dis.shape"
   ]
  },
  {
   "cell_type": "code",
   "execution_count": 26,
   "metadata": {},
   "outputs": [
    {
     "data": {
      "text/plain": [
       "torch.Size([1, 40, 21])"
      ]
     },
     "execution_count": 26,
     "metadata": {},
     "output_type": "execute_result"
    }
   ],
   "source": [
    "out = torch.rand((1,40,18))\n",
    "input = torch.cat([out, dis], dim=2)\n",
    "input.shape"
   ]
  },
  {
   "cell_type": "code",
   "execution_count": 27,
   "metadata": {},
   "outputs": [
    {
     "name": "stdout",
     "output_type": "stream",
     "text": [
      "0\n",
      "1\n",
      "2\n",
      "3\n",
      "4\n"
     ]
    }
   ],
   "source": [
    "for j in range(5):\n",
    "    print(j)"
   ]
  },
  {
   "cell_type": "code",
   "execution_count": 38,
   "metadata": {},
   "outputs": [],
   "source": [
    "def get_data_by_type(out, label, i):\n",
    "    os, ls = [], []\n",
    "    \n",
    "    for j in range(3):\n",
    "        o = out[:, 2*i + (6*j) : 2*(i+1) + (6*j)]\n",
    "        os.append(o)\n",
    "        l = label[:, 2*i + (6*j) : 2*(i+1) + (6*j)]\n",
    "        ls.append(l)\n",
    "    \n",
    "    out = torch.cat(os, dim=1)\n",
    "    label = torch.cat(ls, dim=1)\n",
    "    \n",
    "    return out, label"
   ]
  },
  {
   "cell_type": "code",
   "execution_count": 39,
   "metadata": {},
   "outputs": [],
   "source": [
    "t = torch.rand((4, 18))\n",
    "l = torch.rand((4, 18))\n",
    "o_losses = []\n",
    "t_losses = []"
   ]
  },
  {
   "cell_type": "code",
   "execution_count": 40,
   "metadata": {},
   "outputs": [],
   "source": [
    "lf = MSELoss()"
   ]
  },
  {
   "cell_type": "code",
   "execution_count": 41,
   "metadata": {},
   "outputs": [],
   "source": [
    "for i in range(3):\n",
    "    # Object specific loss\n",
    "    out = t[:, i*6 : (i+1)*6]\n",
    "    label = l[:, i*6 : (i+1)*6]\n",
    "    object_loss = lf(out, label)\n",
    "    o_losses.append(object_loss.item())\n",
    "    \n",
    "    # Data specific loss (coords, orientation, force)\n",
    "    out2, label2 = get_data_by_type(t, l, i)\n",
    "    data_loss = lf(out2, label2)\n",
    "    t_losses.append(data_loss.item())"
   ]
  },
  {
   "cell_type": "code",
   "execution_count": 42,
   "metadata": {},
   "outputs": [
    {
     "data": {
      "text/plain": [
       "([0.22520773112773895, 0.12353353947401047, 0.1602531373500824],\n",
       " [0.09188965708017349, 0.22642183303833008, 0.19068290293216705])"
      ]
     },
     "execution_count": 42,
     "metadata": {},
     "output_type": "execute_result"
    }
   ],
   "source": [
    "o_losses, t_losses"
   ]
  },
  {
   "cell_type": "code",
   "execution_count": 43,
   "metadata": {},
   "outputs": [
    {
     "data": {
      "text/plain": [
       "(0.5089944079518318, 0.5089943930506706)"
      ]
     },
     "execution_count": 43,
     "metadata": {},
     "output_type": "execute_result"
    }
   ],
   "source": [
    "sum(o_losses), sum(t_losses)"
   ]
  },
  {
   "cell_type": "code",
   "execution_count": 4,
   "metadata": {},
   "outputs": [],
   "source": [
    "import itertools as it\n",
    "import torch"
   ]
  },
  {
   "cell_type": "code",
   "execution_count": 5,
   "metadata": {},
   "outputs": [],
   "source": [
    "x = torch.rand((3,3))\n",
    "y = torch.rand((3,3))\n",
    "z = torch.rand((3,3))"
   ]
  },
  {
   "cell_type": "code",
   "execution_count": 6,
   "metadata": {},
   "outputs": [],
   "source": [
    "tensors = [x, y, z]\n",
    "test = [[1,2], [3,4], [5,6]]"
   ]
  },
  {
   "cell_type": "code",
   "execution_count": 11,
   "metadata": {},
   "outputs": [],
   "source": [
    "combs = it.combinations(tensors, 2)\n",
    "combs = it.combinations(test, 2)"
   ]
  },
  {
   "cell_type": "code",
   "execution_count": 12,
   "metadata": {},
   "outputs": [
    {
     "name": "stdout",
     "output_type": "stream",
     "text": [
      "([1, 2], [3, 4])\n",
      "([1, 2], [5, 6])\n",
      "([3, 4], [5, 6])\n"
     ]
    }
   ],
   "source": [
    "for com in combs:\n",
    "    print(com)"
   ]
  },
  {
   "cell_type": "code",
   "execution_count": 14,
   "metadata": {},
   "outputs": [
    {
     "name": "stdout",
     "output_type": "stream",
     "text": [
      "('lr', [0.01, 0.001, 0.0001])\n",
      "('wd', [0.0, 0.01, 0.05])\n",
      "('loss', [<class 'torch.nn.modules.loss.MSELoss'>, <class 'torch.nn.modules.loss.L1Loss'>, <class 'torch.nn.modules.loss.HuberLoss'>])\n"
     ]
    }
   ],
   "source": [
    "lr = [0.01, 0.001, 0.0001]\n",
    "wd = [0.0, 0.01, 0.05]\n",
    "loss = [torch.nn.MSELoss, torch.nn.L1Loss, torch.nn.HuberLoss]\n",
    "\n",
    "params = {\n",
    "    'lr': lr,\n",
    "    'wd': wd,\n",
    "    'loss': loss\n",
    "}\n",
    "for param in params.items():\n",
    "    print(param)"
   ]
  },
  {
   "cell_type": "code",
   "execution_count": null,
   "metadata": {},
   "outputs": [],
   "source": [
    "result_list = list(map(dict, it.combinations(\n",
    "    params.items(), 2)))"
   ]
  }
 ],
 "metadata": {
  "kernelspec": {
   "display_name": "Python 3.9.1 ('base')",
   "language": "python",
   "name": "python3"
  },
  "language_info": {
   "codemirror_mode": {
    "name": "ipython",
    "version": 3
   },
   "file_extension": ".py",
   "mimetype": "text/x-python",
   "name": "python",
   "nbconvert_exporter": "python",
   "pygments_lexer": "ipython3",
   "version": "3.9.1"
  },
  "orig_nbformat": 4,
  "vscode": {
   "interpreter": {
    "hash": "19d1d53a962d236aa061289c2ac16dc8e6d9648c89fe79f459ae9a3493bc67b4"
   }
  }
 },
 "nbformat": 4,
 "nbformat_minor": 2
}
